{
 "cells": [
  {
   "cell_type": "markdown",
   "metadata": {},
   "source": [
    "Ασκηση 6 - Γεννητρια BlumBlumShub"
   ]
  },
  {
   "cell_type": "code",
   "execution_count": 80,
   "metadata": {},
   "outputs": [],
   "source": [
    "import random\n",
    "import math\n",
    "import gmpy2"
   ]
  },
  {
   "cell_type": "markdown",
   "metadata": {},
   "source": [
    "Ορίζουμε ορισμένες συναρτήσεις που θα μας φανούν χρήσιμες αργότερα. "
   ]
  },
  {
   "cell_type": "code",
   "execution_count": 81,
   "metadata": {},
   "outputs": [],
   "source": [
    "#επαναλαμβανόμενος τετραγωνισμός\n",
    "def fastmod(base , power , mod):\n",
    "    result = 1\n",
    "    while(power > 0):\n",
    "        if(power%2 == 1):\n",
    "            result = (result*base)%mod\n",
    "            power = power -1\n",
    "        power = power/2\n",
    "        base  = (base*base)%mod\n",
    "    return result%mod\n",
    "\n",
    "#επιστρέφει τους διαιρέτες του n\n",
    "def divisors(n):\n",
    "    divisors = []\n",
    "    large_divisors = []\n",
    "    for i in range(2,int(math.sqrt(n)+1)):\n",
    "        if n % i == 0 :\n",
    "            divisors.append(i)\n",
    "            if(i*i!=n):\n",
    "                large_divisors.append(int(n/i))\n",
    "    divisors.extend(large_divisors)  \n",
    "    return divisors\n",
    "\n",
    "#true αν ειναι σχετικά πρώτοι, false διαφορετικά\n",
    "def coprime(a,b):\n",
    "    if (math.gcd(a,b)==1):\n",
    "        return True\n",
    "    else:\n",
    "        return False\n",
    "    \n",
    "#έλεγχος πρώτων αριθμών με το τεστ του fermat\n",
    "def fermat_test(n,k):\n",
    "    if n == 2:\n",
    "        return True\n",
    "\n",
    "    if n % 2 == 0:\n",
    "        return False\n",
    "\n",
    "    for i in range(k):\n",
    "        a = random.randint(1,n-1)\n",
    "\n",
    "        if fastmod (a , n-1, n) != 1:\n",
    "            return False \n",
    "    return True\n",
    "\n",
    "#true αν το p είναι Safe prime, false διαφορετικά\n",
    "def safePrime(p):\n",
    "    if (p>3 and p%4 == 3 and fermat_test(p,200) and fermat_test((p-1)/2,200)):\n",
    "        return True \n",
    "    return False\n",
    "\n",
    "#true αν το p είναι Safe Safe prime, false διαφορετικά\n",
    "def safeSafePrime(p):\n",
    "    if (safePrime(p) and safePrime((p-1)/2)):\n",
    "            return True\n",
    "    return False\n",
    "\n",
    "def parity(n):\n",
    "    parity = 0\n",
    "    while n: \n",
    "        parity = (parity+1)\n",
    "        parity = parity%2\n",
    "        n = n & (n - 1) \n",
    "    return parity \n",
    "\n"
   ]
  },
  {
   "cell_type": "markdown",
   "metadata": {},
   "source": [
    "Ερώτημα α. \n",
    "Θα βρούμε το s και το Ν, σύμφωνα με τις 2 προυποθέσεις που ορίστηκαν στο ερώτημα 5α:\n",
    "1. N τέτοιο, έτσι ωστε το 2 έχει τάξη λ(λ(Ν)) στην ομάδα λ(Ν)/2.\n",
    "2. s τέτοιο, ώστε να έχει τάξη λ(Ν)/2 στην ομάδα Ν.\n",
    "\n"
   ]
  },
  {
   "cell_type": "code",
   "execution_count": 82,
   "metadata": {},
   "outputs": [],
   "source": [
    "#βρίσκει εναν Safe Safe prime με μηκος σε bits που ορίζουμε \n",
    "def findSafeSafePrime(bits):\n",
    "    a = random.getrandbits(bits)\n",
    "    while (safeSafePrime(a) == 0):\n",
    "        a = random.getrandbits(bits)\n",
    "    return a\n",
    "\n",
    "#υπολογισμός της λ(Ν) για τα δεδομένα του προβλήματος μας, οπου p,q SafeSafe primes\n",
    "def lamda(p,q):\n",
    "    p1 = (p-1)/2\n",
    "    q1 = (q-1)/2\n",
    "    return(int(2*p1*q1))\n",
    "\n",
    "#το ίδιο για τη λ(λ(Ν))\n",
    "def lamda_lamda(p,q):\n",
    "    p1 = (p-1)/2\n",
    "    q1 = (q-1)/2\n",
    "    p2 = (p1-1)/2\n",
    "    q2 = (q1-1)/2\n",
    "    return(int(2*p2*q2))\n",
    "\n",
    "\n",
    "#Condition1 για μέγιστη περίοδο \n",
    "def condition1(p,q):\n",
    "    l_l = lamda_lamda(p,q)\n",
    "    l =int( lamda(p,q)/2 )\n",
    "    a = fastmod(2, l_l , l )\n",
    "    if (a==1):\n",
    "        for x in divisors(l_l):\n",
    "            if (fastmod(2,x,l) == 1):\n",
    "                return(False)\n",
    "        return True\n",
    "\n",
    "#επιστρέφει ένα s, σχετικά πρώτο με το Ν\n",
    "def coprime_seed(p,q):\n",
    "    s = random.randint(3,p*q)\n",
    "    while (not (coprime(s,p) and coprime(s,q))):\n",
    "        s = random.randint(3,p*q) \n",
    "    return s\n",
    "\n",
    "#condition2 για μέγιστη περίοδο\n",
    "def condition2(p,q,s):\n",
    "    l = int(lamda(p,q)/2)\n",
    "    a = fastmod(s,l,p*q)\n",
    "    if (a==1):\n",
    "        for x in divisors(l):\n",
    "            if (fastmod(s,x,p*q) == 1):\n",
    "                return False\n",
    "        return True\n",
    "\n",
    "#βρίσκει Ν, για το οποιο πληρείται το 1ο condition\n",
    "def findN(bits):\n",
    "    p = findSafeSafePrime(bits)\n",
    "    q = findSafeSafePrime(bits)\n",
    "    while condition1(p,q)==0 or p==q:\n",
    "        p = findSafeSafePrime(bits)\n",
    "        q = findSafeSafePrime(bits)\n",
    "    return (p,q,p*q)\n",
    "\n",
    "#επιστρέφει ενα s, έτσι ώστε να πληρείται το 2ο condition.\n",
    "def findSeed(p,q):\n",
    "    s = coprime_seed(p,q)\n",
    "    while (not condition2(p,q,s)):\n",
    "        s = coprime_seed(p,q)\n",
    "    return s\n",
    "\n",
    "#βρίσκει όλες τις αρχικές τιμές της γεννήτριας, p,q,s.\n",
    "def create_generator(bits):\n",
    "    p,q,N = findN(bits)\n",
    "    s = findSeed(p,q)\n",
    "    return p,q,s\n",
    "\n",
    "\n",
    "\n",
    "\n"
   ]
  },
  {
   "cell_type": "code",
   "execution_count": 36,
   "metadata": {},
   "outputs": [
    {
     "name": "stdout",
     "output_type": "stream",
     "text": [
      "p: 57287\n",
      "q: 1010567\n",
      "N: 57892351729\n",
      "s: 20898590198\n"
     ]
    }
   ],
   "source": [
    "p,q,s = create_generator(20)\n",
    "print('p:',p)\n",
    "print('q:',q)\n",
    "print('N:' , p*q)\n",
    "print('s:',s)"
   ]
  },
  {
   "cell_type": "markdown",
   "metadata": {},
   "source": [
    "Eρώτημα β: Πειραματική επαλήθευση της περιόδου.\n",
    "Εδώ θα το τρέξουμε για λίγο μικρότερο αριθμό bits. "
   ]
  },
  {
   "cell_type": "code",
   "execution_count": 15,
   "metadata": {},
   "outputs": [
    {
     "name": "stdout",
     "output_type": "stream",
     "text": [
      "p: 7247 q: 7607 s: 8987648\n",
      "H αναμενόμενη περίοδος είναι: 6885422\n",
      "s μετα απο λ(λ(Ν)) επαναλήψεις: 8987648 οπότε η περίοδος είναι επιθυμητή: 6885422\n"
     ]
    }
   ],
   "source": [
    "def period(p,q,s):\n",
    "    N = p*q\n",
    "    period = lamda_lamda(p,q)\n",
    "    s1=gmpy2.mpz(s)\n",
    "    for i in range(1,period+1):\n",
    "        s1 = fastmod(s1,2,N)\n",
    "        if (s1 == s and i<period):\n",
    "            print('μικρότερη περίοδος:' ,i)\n",
    "            break\n",
    "    print('s μετα απο λ(λ(Ν)) επαναλήψεις:', s1, 'οπότε η περίοδος είναι επιθυμητή:', i)\n",
    "\n",
    "p,q,s = create_generator(14)\n",
    "print('p:',p, 'q:', q, 's:', s)\n",
    "print('H αναμενόμενη περίοδος είναι:', lamda_lamda(p,q))\n",
    "period(p,q,s)\n",
    "\n",
    "\n",
    "\n",
    "    \n",
    "    \n",
    "    \n",
    "\n"
   ]
  },
  {
   "cell_type": "markdown",
   "metadata": {},
   "source": [
    "Ερώτημα δ,ε. Πειραματική προσέγγιση του π. "
   ]
  },
  {
   "cell_type": "code",
   "execution_count": 83,
   "metadata": {},
   "outputs": [],
   "source": [
    "#implementation of blumblumshub generator, for fixed number of bits\n",
    "def blum(p,q,s,bits, mode):\n",
    "    result = 0 \n",
    "    for x in range(bits):\n",
    "        s = fastmod(s,2,p*q)\n",
    "        if(mode==1):\n",
    "            result =(result << 1) + s%2\n",
    "        if (mode==2):\n",
    "            result = (result << 1) + parity(s)\n",
    "    state = s \n",
    "    return result,state \n",
    "        \n",
    "def pi_approx(trials,mode):\n",
    "    circle = 0 \n",
    "    p,q,s = create_generator(20)\n",
    "    for i in range(trials):\n",
    "        a,s = blum(p,q,s,16,mode)\n",
    "        x = a & 255 \n",
    "        y = a >> 8 \n",
    "        if ((x - 127.5)*(x - 127.5) + (y- 127.5)*(y- 127.5) <= 127.5*127.5) :\n",
    "            circle += 1.0\n",
    "    #print('Pi/4 is = 0.78539816339')    \n",
    "    pi = (circle+1.0) / (trials+1.0) \n",
    "    #print('Our approximation is' , pi)\n",
    "    return(pi)"
   ]
  },
  {
   "cell_type": "code",
   "execution_count": 84,
   "metadata": {},
   "outputs": [
    {
     "name": "stdout",
     "output_type": "stream",
     "text": [
      "0.7982017982017982\n",
      "0.7832167832167832\n"
     ]
    }
   ],
   "source": [
    "print(pi_approx(1000,1))\n",
    "print(pi_approx(1000,2))"
   ]
  },
  {
   "cell_type": "code",
   "execution_count": 23,
   "metadata": {},
   "outputs": [
    {
     "name": "stderr",
     "output_type": "stream",
     "text": [
      "In /home/aokidev/.local/lib/python3.6/site-packages/matplotlib/mpl-data/stylelib/_classic_test.mplstyle: \n",
      "The text.latex.preview rcparam was deprecated in Matplotlib 3.3 and will be removed two minor releases later.\n",
      "In /home/aokidev/.local/lib/python3.6/site-packages/matplotlib/mpl-data/stylelib/_classic_test.mplstyle: \n",
      "The mathtext.fallback_to_cm rcparam was deprecated in Matplotlib 3.3 and will be removed two minor releases later.\n",
      "In /home/aokidev/.local/lib/python3.6/site-packages/matplotlib/mpl-data/stylelib/_classic_test.mplstyle: Support for setting the 'mathtext.fallback_to_cm' rcParam is deprecated since 3.3 and will be removed two minor releases later; use 'mathtext.fallback : 'cm' instead.\n",
      "In /home/aokidev/.local/lib/python3.6/site-packages/matplotlib/mpl-data/stylelib/_classic_test.mplstyle: \n",
      "The validate_bool_maybe_none function was deprecated in Matplotlib 3.3 and will be removed two minor releases later.\n",
      "In /home/aokidev/.local/lib/python3.6/site-packages/matplotlib/mpl-data/stylelib/_classic_test.mplstyle: \n",
      "The savefig.jpeg_quality rcparam was deprecated in Matplotlib 3.3 and will be removed two minor releases later.\n",
      "In /home/aokidev/.local/lib/python3.6/site-packages/matplotlib/mpl-data/stylelib/_classic_test.mplstyle: \n",
      "The keymap.all_axes rcparam was deprecated in Matplotlib 3.3 and will be removed two minor releases later.\n",
      "In /home/aokidev/.local/lib/python3.6/site-packages/matplotlib/mpl-data/stylelib/_classic_test.mplstyle: \n",
      "The animation.avconv_path rcparam was deprecated in Matplotlib 3.3 and will be removed two minor releases later.\n",
      "In /home/aokidev/.local/lib/python3.6/site-packages/matplotlib/mpl-data/stylelib/_classic_test.mplstyle: \n",
      "The animation.avconv_args rcparam was deprecated in Matplotlib 3.3 and will be removed two minor releases later.\n"
     ]
    }
   ],
   "source": [
    "import matplotlib.pyplot as plt\n",
    "import numpy as np\n",
    "import time"
   ]
  },
  {
   "cell_type": "code",
   "execution_count": 87,
   "metadata": {},
   "outputs": [
    {
     "name": "stdout",
     "output_type": "stream",
     "text": [
      "7.28406286239624\n"
     ]
    },
    {
     "data": {
      "image/png": "[encoded data removed]",
      "text/plain": [
       "<Figure size 432x288 with 1 Axes>"
      ]
     },
     "metadata": {
      "needs_background": "light"
     },
     "output_type": "display_data"
    }
   ],
   "source": [
    "a = []\n",
    "#trials = np.logspace(3,4,20, endpoint=True)\n",
    "trials = [200,500,1000,2000,3000,4000,5000,10000]\n",
    "start_time = time.time()\n",
    "\n",
    "for i in trials:\n",
    "    a.append(pi_approx(i,1))\n",
    "\n",
    "print(time.time()-start_time)\n",
    "plt.plot(trials,a)\n",
    "plt.hlines(y=math.pi/4,xmin=0,xmax = 10000, colors='red', linestyles='solid', label='pi/4')\n",
    "plt.show()\n"
   ]
  },
  {
   "cell_type": "code",
   "execution_count": 86,
   "metadata": {},
   "outputs": [
    {
     "data": {
      "image/png": "[encoded data removed]",
      "text/plain": [
       "<Figure size 432x288 with 1 Axes>"
      ]
     },
     "metadata": {
      "needs_background": "light"
     },
     "output_type": "display_data"
    }
   ],
   "source": [
    "a = []\n",
    "#trials = np.logspace(3,4,20, endpoint=True)\n",
    "trials = [200,500,1000,2000,3000,4000,5000,10000]\n",
    "start_time = time.time()\n",
    "\n",
    "for i in trials:\n",
    "    a.append(pi_approx(i,2))\n",
    "plt.plot(trials,a)\n",
    "plt.hlines(y=math.pi/4,xmin=0,xmax = 10000, colors='red', linestyles='solid', label='pi/4')\n",
    "plt.show()"
   ]
  },
  {
   "cell_type": "code",
   "execution_count": null,
   "metadata": {},
   "outputs": [],
   "source": []
  },
  {
   "cell_type": "code",
   "execution_count": null,
   "metadata": {},
   "outputs": [],
   "source": []
  }
 ],
 "metadata": {
  "kernelspec": {
   "display_name": "Python 3",
   "language": "python",
   "name": "python3"
  },
  "language_info": {
   "codemirror_mode": {
    "name": "ipython",
    "version": 3
   },
   "file_extension": ".py",
   "mimetype": "text/x-python",
   "name": "python",
   "nbconvert_exporter": "python",
   "pygments_lexer": "ipython3",
   "version": "3.6.9"
  },
  "toc": {
   "base_numbering": 1,
   "nav_menu": {},
   "number_sections": true,
   "sideBar": true,
   "skip_h1_title": false,
   "title_cell": "Table of Contents",
   "title_sidebar": "Contents",
   "toc_cell": false,
   "toc_position": {},
   "toc_section_display": true,
   "toc_window_display": false
  }
 },
 "nbformat": 4,
 "nbformat_minor": 4
}
